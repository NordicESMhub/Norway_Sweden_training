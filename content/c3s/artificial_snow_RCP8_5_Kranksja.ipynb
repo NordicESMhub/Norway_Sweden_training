{
 "cells": [
  {
   "cell_type": "markdown",
   "metadata": {},
   "source": [
    "# Welcome to the interactive Galaxy IPython Notebook."
   ]
  },
  {
   "cell_type": "markdown",
   "metadata": {},
   "source": [
    "You can access your data via the dataset number. Using a Python kernel, you can access dataset number 42 with ``handle = open(get(42), 'r')``.\n",
    "To save data, write your data to a file, and then call ``put('filename.txt')``. The dataset will then be available in your galaxy history.\n",
    "<br>When using a non-Python kernel, ``get`` and ``put`` are available as command-line tools, which can be accessed using system calls in R, Julia, and Ruby. For example, to read dataset number 42 into R, you can write ```handle <- file(system('get -i 42', intern = TRUE))```.\n",
    "To save data in R, write the data to a file and then call ``system('put -p filename.txt')``.\n",
    "Notebooks can be saved to Galaxy by clicking the large green button at the top right of the IPython interface.<br>\n",
    "More help and informations can be found on the project [website](https://github.com/bgruening/docker-jupyter-notebook)."
   ]
  },
  {
   "cell_type": "markdown",
   "metadata": {},
   "source": [
    "# RATECE-PLANICA ski station (Slovenia) under RCP 8.5 condition\n",
    "\n",
    "## Is it worth investing in artificial snowmaking equipment at RATECE-PLANICA?"
   ]
  },
  {
   "cell_type": "code",
   "execution_count": null,
   "metadata": {
    "collapsed": false,
    "jupyter": {
     "outputs_hidden": false
    }
   },
   "outputs": [],
   "source": [
    "import xarray as xr\n",
    "import cartopy.crs as ccrs\n",
    "import matplotlib.pyplot as plt\n",
    "import numpy as np\n",
    "import cftime\n",
    "import glob\n",
    "import cdsapi\n",
    "%matplotlib inline"
   ]
  },
  {
   "cell_type": "markdown",
   "metadata": {},
   "source": [
    "## Adding your CDS API key \n",
    "\n",
    "- Login to [cds](https://cds.climate.copernicus.eu/)\n",
    "- Visit page [How to install the cds api key](https://cds.climate.copernicus.eu/api-how-to#install-the-cds-api-key)\n",
    "- Start a [new Terminal Session](https://jupyterlab.readthedocs.io/en/stable/user/terminal.html)\n",
    "- Use `nano` to edit your cds api:\n",
    "\n",
    "```\n",
    "nano $HOME/.cdsapirc\n",
    "```\n"
   ]
  },
  {
   "cell_type": "markdown",
   "metadata": {},
   "source": [
    "# Step-1 : Get data for bias correction\n",
    "\n",
    "## MPI-ESM-LR daily temperature from 1960 to end 2005\n",
    "\n",
    "### Get MPI-ESM-LR 2m temperature data "
   ]
  },
  {
   "cell_type": "code",
   "execution_count": null,
   "metadata": {},
   "outputs": [],
   "source": [
    "c = cdsapi.Client()\n",
    "\n",
    "c.retrieve(\n",
    "    'projections-cmip5-daily-single-levels',\n",
    "    {\n",
    "        'ensemble_member': 'r1i1p1',\n",
    "        'format': 'zip',\n",
    "        'experiment': 'historical',\n",
    "        'variable': '2m_temperature', \n",
    "        'model': 'mpi_esm_lr',\n",
    "        'period': [\n",
    "            '19600101-19691231', '19700101-19791231', '19800101-19891231',\n",
    "            '19900101-19991231', '20000101-20051231',\n",
    "        ],\n",
    "    },\n",
    "    'cmip5_mpi_esm_lr_daily_t2m.zip')"
   ]
  },
  {
   "cell_type": "code",
   "execution_count": null,
   "metadata": {},
   "outputs": [],
   "source": [
    "# Save data into Galaxy history\n",
    "!put -p cmip5_mpi_esm_lr_daily_t2m.zip -t zip"
   ]
  },
  {
   "cell_type": "code",
   "execution_count": null,
   "metadata": {},
   "outputs": [],
   "source": [
    "!mkdir -p mpi_daily_h\n",
    "!cd mpi_daily_h && unzip ../cmip5_mpi_esm_lr_daily_t2m.zip"
   ]
  },
  {
   "cell_type": "markdown",
   "metadata": {},
   "source": [
    "### Compute 2 m temperature mean and standard deviation"
   ]
  },
  {
   "cell_type": "code",
   "execution_count": null,
   "metadata": {},
   "outputs": [],
   "source": [
    "filenames = glob.glob('mpi_daily_h/tas_*_MPI-ESM-LR_*.nc')\n",
    "print(filenames)\n",
    "dset = xr.open_mfdataset(filenames, decode_times=True, use_cftime=True, combine='by_coords')"
   ]
  },
  {
   "cell_type": "code",
   "execution_count": null,
   "metadata": {},
   "outputs": [],
   "source": [
    "dset"
   ]
  },
  {
   "cell_type": "markdown",
   "metadata": {},
   "source": [
    "# Get data over Kranjska Gora station (1961-2005) \n",
    "\n",
    "- Select nearest grid point to Kranjska Gora station (46.5°N, 13.8°E, 800 m a.s.l.)\n",
    "- time between 1961 and 2005."
   ]
  },
  {
   "cell_type": "code",
   "execution_count": null,
   "metadata": {},
   "outputs": [],
   "source": [
    "p = dset['tas'].loc['1961-01-01':'2005-12-31'].sel(lat=46.5,lon=13.8, method=\"nearest\")"
   ]
  },
  {
   "cell_type": "markdown",
   "metadata": {},
   "source": [
    "### Compute mean and standard deviation"
   ]
  },
  {
   "cell_type": "code",
   "execution_count": null,
   "metadata": {},
   "outputs": [],
   "source": [
    "mean_mpi_1961_2005 = p.mean().values\n",
    "std_mpi_1961_2005 = p.std().values\n",
    "print(mean_mpi_1961_2005, std_mpi_1961_2005)"
   ]
  },
  {
   "cell_type": "markdown",
   "metadata": {},
   "source": [
    "# Time series - daily RATECE-PLANICA average temperature\n",
    "\n",
    "- coordinates: 46.50N, 13.70E, 864.0m\n",
    "- GHCN-D station code: SIE00115206 RATECE-PLANICA Slovenia"
   ]
  },
  {
   "cell_type": "code",
   "execution_count": null,
   "metadata": {},
   "outputs": [],
   "source": [
    "!wget http://berkeleyearth.lbl.gov/auto/Stations/TAVG/Text/22498-TAVG-Data.txt"
   ]
  },
  {
   "cell_type": "code",
   "execution_count": null,
   "metadata": {},
   "outputs": [],
   "source": [
    "# Save data into Galaxy history\n",
    "!put -p 22498-TAVG-Data.txt -t txt"
   ]
  },
  {
   "cell_type": "markdown",
   "metadata": {},
   "source": [
    "# Read timeseries with pandas"
   ]
  },
  {
   "cell_type": "code",
   "execution_count": null,
   "metadata": {},
   "outputs": [],
   "source": [
    "import pandas as pd"
   ]
  },
  {
   "cell_type": "code",
   "execution_count": null,
   "metadata": {},
   "outputs": [],
   "source": [
    "filename = '22498-TAVG-Data.txt'\n",
    "data = pd.read_csv(filename, sep='\\s+', header=None, comment='%')"
   ]
  },
  {
   "cell_type": "code",
   "execution_count": null,
   "metadata": {},
   "outputs": [],
   "source": [
    "mean_st_1961_2005 = data[(data[0] >= 1961 ) & (data[0] <= 2005)][6].mean()\n",
    "std_st_1961_2005 = data[(data[0] >= 1961 ) & (data[0] <= 2005)][6].std()\n",
    "print(mean_st_1961_2005 + 273.15, std_st_1961_2005)"
   ]
  },
  {
   "cell_type": "code",
   "execution_count": null,
   "metadata": {},
   "outputs": [],
   "source": [
    "dset.close()"
   ]
  },
  {
   "cell_type": "markdown",
   "metadata": {},
   "source": [
    "- We now have mean temperature and standard deviation for both MPI-ESM-LR historical and RATECE-PLANICA Slovenia meteorological station. These values will be used for our bias correction"
   ]
  },
  {
   "cell_type": "markdown",
   "metadata": {},
   "source": [
    "# Step-2: Model data historical 1961 - 2005 \n",
    "- 'maximum_2m_temperature_in_the_last_24_hours'\n",
    "- 'minimum_2m_temperature_in_the_last_24_hours'"
   ]
  },
  {
   "cell_type": "code",
   "execution_count": null,
   "metadata": {},
   "outputs": [],
   "source": [
    "c.retrieve(\n",
    "    'projections-cmip5-daily-single-levels',\n",
    "    {\n",
    "        'ensemble_member': 'r1i1p1',\n",
    "        'format': 'zip',\n",
    "        'experiment': 'historical',\n",
    "        'variable': [\n",
    "            'maximum_2m_temperature_in_the_last_24_hours', 'minimum_2m_temperature_in_the_last_24_hours',\n",
    "        ],\n",
    "        'model': 'mpi_esm_lr',\n",
    "        'period': [\n",
    "            '19600101-19691231', '19700101-19791231', '19800101-19891231',\n",
    "            '19900101-19991231', '20000101-20051231',\n",
    "        ],\n",
    "    },\n",
    "    'cmip5_mpi_esm_lr_daily_tasmin_tasmax.zip')"
   ]
  },
  {
   "cell_type": "code",
   "execution_count": null,
   "metadata": {},
   "outputs": [],
   "source": [
    "# Save data into Galaxy history\n",
    "!put -p cmip5_mpi_esm_lr_daily_tasmin_tasmax.zip -t zip"
   ]
  },
  {
   "cell_type": "code",
   "execution_count": null,
   "metadata": {},
   "outputs": [],
   "source": [
    "!mkdir -p mpi_daily_h\n",
    "!cd mpi_daily_h && unzip ../cmip5_mpi_esm_lr_daily_tasmin_tasmax.zip && rm ../cmip5_mpi_esm_lr_daily_tasmin_tasmax.zip"
   ]
  },
  {
   "cell_type": "markdown",
   "metadata": {},
   "source": [
    "# Apply bias correction to historical t2 min and t2 max 1961-2005"
   ]
  },
  {
   "cell_type": "code",
   "execution_count": null,
   "metadata": {},
   "outputs": [],
   "source": [
    "filenames = glob.glob('mpi_daily_h/tas*_MPI-ESM-LR_*.nc')\n",
    "print(filenames)\n",
    "dset_hist = xr.open_mfdataset(filenames, decode_times=True, use_cftime=True, combine='by_coords')"
   ]
  },
  {
   "cell_type": "markdown",
   "metadata": {},
   "source": [
    "## Apply bias correction to tasmin"
   ]
  },
  {
   "cell_type": "code",
   "execution_count": null,
   "metadata": {},
   "outputs": [],
   "source": [
    "p = dset_hist['tasmin'].loc['1961-01-01':'2005-12-31'].sel(lat=46.5,lon=13.8, method=\"nearest\")\n",
    "t2min_h_bias_corrected = (p - mean_mpi_1961_2005)/std_mpi_1961_2005 * std_st_1961_2005 + mean_st_1961_2005"
   ]
  },
  {
   "cell_type": "markdown",
   "metadata": {},
   "source": [
    "## Apply bias correction to tasmax"
   ]
  },
  {
   "cell_type": "code",
   "execution_count": null,
   "metadata": {},
   "outputs": [],
   "source": [
    "p = dset_hist['tasmax'].loc['1961-01-01':'2005-12-31'].sel(lat=46.5,lon=13.8, method=\"nearest\")\n",
    "t2max_h_bias_corrected = (p - mean_mpi_1961_2005)/std_mpi_1961_2005 * std_st_1961_2005 + mean_st_1961_2005"
   ]
  },
  {
   "cell_type": "markdown",
   "metadata": {},
   "source": [
    "### Select a year and make a plot"
   ]
  },
  {
   "cell_type": "code",
   "execution_count": null,
   "metadata": {},
   "outputs": [],
   "source": [
    "t2max_h_bias_corrected.sel(time = t2max_h_bias_corrected.time.dt.year.isin([1970, 1970])).plot()\n",
    "t2min_h_bias_corrected.sel(time = t2min_h_bias_corrected.time.dt.year.isin([1970, 1970])).plot()"
   ]
  },
  {
   "cell_type": "markdown",
   "metadata": {},
   "source": [
    "# Step-3: Model data projection 2040 - 2100 RCP 8.5\n",
    "- 'maximum_2m_temperature_in_the_last_24_hours'\n",
    "- 'minimum_2m_temperature_in_the_last_24_hours'"
   ]
  },
  {
   "cell_type": "code",
   "execution_count": null,
   "metadata": {},
   "outputs": [],
   "source": [
    "c.retrieve(\n",
    "    'projections-cmip5-daily-single-levels',\n",
    "    {\n",
    "        'ensemble_member': 'r1i1p1',\n",
    "        'format': 'zip',\n",
    "        'experiment': 'rcp_8_5',\n",
    "        'variable': [\n",
    "            'maximum_2m_temperature_in_the_last_24_hours', 'minimum_2m_temperature_in_the_last_24_hours',\n",
    "        ],\n",
    "        'area' : \"47.5/12/44.5/14\", #N/W/S/E\n",
    "        'model': 'mpi_esm_lr',\n",
    "        'period': [\n",
    "            '20400101-20491231', '20500101-20591231', '20600101-20691231',\n",
    "            '20700101-20791231', '20800101-20891231', '20900101-21001231',\n",
    "        ],\n",
    "    },\n",
    "    'cmip5_mpi_esm_lr_daily_tasmin_tasmax_proj.zip')"
   ]
  },
  {
   "cell_type": "code",
   "execution_count": 48,
   "metadata": {},
   "outputs": [
    {
     "name": "stdout",
     "output_type": "stream",
     "text": [
      "\n",
      " bunzipping: tasmin_day_MPI-ESM-LR_rcp85_r1i1p1_20800101-20891231.nc  \n"
     ]
    }
   ],
   "source": [
    "!mkdir -p mpi_daily_p\n",
    "!cd mpi_daily_p && unzip ../cmip5_mpi_esm_lr_daily_tasmin_tasmax_proj.zip && rm ../cmip5_mpi_esm_lr_daily_tasmin_tasmax_proj.zip"
   ]
  },
  {
   "cell_type": "code",
   "execution_count": 50,
   "metadata": {},
   "outputs": [
    {
     "name": "stdout",
     "output_type": "stream",
     "text": [
      "['mpi_daily_p/tasmax_day_MPI-ESM-LR_rcp85_r1i1p1_20500101-20591231.nc', 'mpi_daily_p/tasmin_day_MPI-ESM-LR_rcp85_r1i1p1_20500101-20591231.nc', 'mpi_daily_p/tasmin_day_MPI-ESM-LR_rcp85_r1i1p1_20800101-20891231.nc', 'mpi_daily_p/tasmin_day_MPI-ESM-LR_rcp85_r1i1p1_20900101-21001231.nc', 'mpi_daily_p/tasmax_day_MPI-ESM-LR_rcp85_r1i1p1_20400101-20491231.nc', 'mpi_daily_p/tasmin_day_MPI-ESM-LR_rcp85_r1i1p1_20600101-20691231.nc', 'mpi_daily_p/tasmin_day_MPI-ESM-LR_rcp85_r1i1p1_20700101-20791231.nc', 'mpi_daily_p/tasmax_day_MPI-ESM-LR_rcp85_r1i1p1_20800101-20891231.nc', 'mpi_daily_p/tasmax_day_MPI-ESM-LR_rcp85_r1i1p1_20600101-20691231.nc', 'mpi_daily_p/tasmin_day_MPI-ESM-LR_rcp85_r1i1p1_20400101-20491231.nc', 'mpi_daily_p/tasmax_day_MPI-ESM-LR_rcp85_r1i1p1_20900101-21001231.nc', 'mpi_daily_p/tasmax_day_MPI-ESM-LR_rcp85_r1i1p1_20700101-20791231.nc']\n"
     ]
    }
   ],
   "source": [
    "filenames = glob.glob('mpi_daily_p/tas*_MPI-ESM-LR_*.nc')\n",
    "print(filenames)\n",
    "dset_p = xr.open_mfdataset(filenames, decode_times=True, use_cftime=True, combine='by_coords')"
   ]
  },
  {
   "cell_type": "markdown",
   "metadata": {},
   "source": [
    "## Apply bias correction to tasmin for projection MPI-ESM-LR RCP 8.5"
   ]
  },
  {
   "cell_type": "code",
   "execution_count": 51,
   "metadata": {},
   "outputs": [],
   "source": [
    "p = dset_p['tasmin'].loc['2040-01-01':'2100-12-31'].sel(lat=46.5,lon=13.8, method=\"nearest\")\n",
    "t2min_p_bias_corrected = (p - mean_mpi_1961_2005)/std_mpi_1961_2005 * std_st_1961_2005 + mean_st_1961_2005"
   ]
  },
  {
   "cell_type": "markdown",
   "metadata": {},
   "source": [
    "## Apply bias correction to tasmax for projection MPI-ESM-LR RCP 8.5"
   ]
  },
  {
   "cell_type": "code",
   "execution_count": 53,
   "metadata": {},
   "outputs": [],
   "source": [
    "p = dset_p['tasmax'].loc['2040-01-01':'2100-12-31'].sel(lat=46.5,lon=13.8, method=\"nearest\")\n",
    "t2max_p_bias_corrected = (p - mean_mpi_1961_2005)/std_mpi_1961_2005 * std_st_1961_2005 + mean_st_1961_2005"
   ]
  },
  {
   "cell_type": "markdown",
   "metadata": {},
   "source": [
    "# Step-4: Favourable conditions to produce artificial snow\n",
    "- daily minimum temperature below 0 °C \n",
    "- daily maximum temperature not above 3 °C"
   ]
  },
  {
   "cell_type": "markdown",
   "metadata": {},
   "source": [
    "## Favourable conditions to produce artificial snow for period 1961 - 2005\n",
    "- t2min_h_bias_corrected < 0\n",
    "- t2max_h_bias_corrected <= 3"
   ]
  },
  {
   "cell_type": "code",
   "execution_count": 70,
   "metadata": {},
   "outputs": [],
   "source": [
    "nb_favourable_h = t2min_h_bias_corrected.where((t2min_h_bias_corrected < 0) & (t2max_h_bias_corrected <= 3)).groupby('time.year').count()"
   ]
  },
  {
   "cell_type": "code",
   "execution_count": 71,
   "metadata": {},
   "outputs": [
    {
     "data": {
      "text/html": [
       "<pre>&lt;xarray.DataArray &#x27;tasmin&#x27; (year: 45)&gt;\n",
       "dask.array&lt;stack, shape=(45,), dtype=int64, chunksize=(1,), chunktype=numpy.ndarray&gt;\n",
       "Coordinates:\n",
       "    height   float64 2.0\n",
       "    lon      float64 13.12\n",
       "    lat      float64 45.7\n",
       "  * year     (year) int64 1961 1962 1963 1964 1965 ... 2001 2002 2003 2004 2005</pre>"
      ],
      "text/plain": [
       "<xarray.DataArray 'tasmin' (year: 45)>\n",
       "dask.array<stack, shape=(45,), dtype=int64, chunksize=(1,), chunktype=numpy.ndarray>\n",
       "Coordinates:\n",
       "    height   float64 2.0\n",
       "    lon      float64 13.12\n",
       "    lat      float64 45.7\n",
       "  * year     (year) int64 1961 1962 1963 1964 1965 ... 2001 2002 2003 2004 2005"
      ]
     },
     "execution_count": 71,
     "metadata": {},
     "output_type": "execute_result"
    }
   ],
   "source": [
    "nb_favourable_h"
   ]
  },
  {
   "cell_type": "markdown",
   "metadata": {},
   "source": [
    "## Favourable conditions to produce artificial snow for period 2040 - 2100\n",
    "- t2min_p_bias_corrected < 0\n",
    "- t2max_p_bias_corrected <= 3"
   ]
  },
  {
   "cell_type": "code",
   "execution_count": 72,
   "metadata": {},
   "outputs": [],
   "source": [
    "nb_favourable_p = t2min_p_bias_corrected.where((t2min_p_bias_corrected < 0) & (t2max_p_bias_corrected <= 3)).groupby('time.year').count()"
   ]
  },
  {
   "cell_type": "code",
   "execution_count": 285,
   "metadata": {},
   "outputs": [
    {
     "data": {
      "text/html": [
       "<pre>&lt;xarray.DataArray &#x27;tasmin&#x27; (year: 61)&gt;\n",
       "dask.array&lt;stack, shape=(61,), dtype=int64, chunksize=(1,), chunktype=numpy.ndarray&gt;\n",
       "Coordinates:\n",
       "    height   float64 2.0\n",
       "    lon      float64 13.12\n",
       "    lat      float64 45.7\n",
       "  * year     (year) int64 2040 2041 2042 2043 2044 ... 2096 2097 2098 2099 2100</pre>"
      ],
      "text/plain": [
       "<xarray.DataArray 'tasmin' (year: 61)>\n",
       "dask.array<stack, shape=(61,), dtype=int64, chunksize=(1,), chunktype=numpy.ndarray>\n",
       "Coordinates:\n",
       "    height   float64 2.0\n",
       "    lon      float64 13.12\n",
       "    lat      float64 45.7\n",
       "  * year     (year) int64 2040 2041 2042 2043 2044 ... 2096 2097 2098 2099 2100"
      ]
     },
     "execution_count": 285,
     "metadata": {},
     "output_type": "execute_result"
    }
   ],
   "source": [
    "nb_favourable_p"
   ]
  },
  {
   "cell_type": "code",
   "execution_count": 81,
   "metadata": {},
   "outputs": [],
   "source": [
    "nb_favourable = xr.merge([nb_favourable_h, nb_favourable_p])"
   ]
  },
  {
   "cell_type": "code",
   "execution_count": 183,
   "metadata": {},
   "outputs": [
    {
     "data": {
      "text/html": [
       "<pre>&lt;xarray.Dataset&gt;\n",
       "Dimensions:  (year: 106)\n",
       "Coordinates:\n",
       "  * year     (year) int64 1961 1962 1963 1964 1965 ... 2096 2097 2098 2099 2100\n",
       "    height   float64 2.0\n",
       "    lon      float64 13.12\n",
       "    lat      float64 45.7\n",
       "Data variables:\n",
       "    tasmin   (year) float64 dask.array&lt;chunksize=(46,), meta=np.ndarray&gt;</pre>"
      ],
      "text/plain": [
       "<xarray.Dataset>\n",
       "Dimensions:  (year: 106)\n",
       "Coordinates:\n",
       "  * year     (year) int64 1961 1962 1963 1964 1965 ... 2096 2097 2098 2099 2100\n",
       "    height   float64 2.0\n",
       "    lon      float64 13.12\n",
       "    lat      float64 45.7\n",
       "Data variables:\n",
       "    tasmin   (year) float64 dask.array<chunksize=(46,), meta=np.ndarray>"
      ]
     },
     "execution_count": 183,
     "metadata": {},
     "output_type": "execute_result"
    }
   ],
   "source": [
    "nb_favourable"
   ]
  },
  {
   "cell_type": "code",
   "execution_count": 184,
   "metadata": {},
   "outputs": [],
   "source": [
    "series = nb_favourable.tasmin.to_series()\n",
    "series.index = pd.to_datetime(series.index,  format='%Y')"
   ]
  },
  {
   "cell_type": "code",
   "execution_count": 185,
   "metadata": {},
   "outputs": [
    {
     "data": {
      "text/plain": [
       "year\n",
       "1961-01-01    76.0\n",
       "1962-01-01    68.0\n",
       "1963-01-01    67.0\n",
       "1964-01-01    34.0\n",
       "1965-01-01    62.0\n",
       "Name: tasmin, dtype: float64"
      ]
     },
     "execution_count": 185,
     "metadata": {},
     "output_type": "execute_result"
    }
   ],
   "source": [
    "series.head()"
   ]
  },
  {
   "cell_type": "markdown",
   "metadata": {},
   "source": [
    "### Remove years to have full decades starting from 1961-1970, ..."
   ]
  },
  {
   "cell_type": "code",
   "execution_count": 287,
   "metadata": {},
   "outputs": [],
   "source": [
    "import numpy as np\n",
    "series.loc[(series.index.year > 2000) & (series.index.year <= 2005)] = np.nan\n",
    "series.loc[(series.index.year == 2040)] = np.nan"
   ]
  },
  {
   "cell_type": "code",
   "execution_count": 288,
   "metadata": {},
   "outputs": [
    {
     "data": {
      "text/plain": [
       "year\n",
       "1961-01-01    76.0\n",
       "1962-01-01    68.0\n",
       "1963-01-01    67.0\n",
       "1964-01-01    34.0\n",
       "1965-01-01    62.0\n",
       "1966-01-01    73.0\n",
       "1967-01-01    81.0\n",
       "1968-01-01    57.0\n",
       "1969-01-01    65.0\n",
       "1970-01-01    70.0\n",
       "1971-01-01    70.0\n",
       "1972-01-01    56.0\n",
       "1973-01-01    50.0\n",
       "1974-01-01    53.0\n",
       "1975-01-01    74.0\n",
       "1976-01-01    68.0\n",
       "1977-01-01    67.0\n",
       "1978-01-01    77.0\n",
       "1979-01-01    54.0\n",
       "1980-01-01    32.0\n",
       "1981-01-01    42.0\n",
       "1982-01-01    39.0\n",
       "1983-01-01    44.0\n",
       "1984-01-01    68.0\n",
       "1985-01-01    37.0\n",
       "1986-01-01    43.0\n",
       "1987-01-01    39.0\n",
       "1988-01-01    45.0\n",
       "1989-01-01    45.0\n",
       "1990-01-01    50.0\n",
       "1991-01-01    65.0\n",
       "1992-01-01    45.0\n",
       "1993-01-01    60.0\n",
       "1994-01-01    46.0\n",
       "1995-01-01    41.0\n",
       "1996-01-01    67.0\n",
       "1997-01-01    62.0\n",
       "1998-01-01    27.0\n",
       "1999-01-01    53.0\n",
       "2000-01-01    32.0\n",
       "2001-01-01     NaN\n",
       "2002-01-01     NaN\n",
       "2003-01-01     NaN\n",
       "2004-01-01     NaN\n",
       "2005-01-01     NaN\n",
       "2040-01-01     NaN\n",
       "2041-01-01    43.0\n",
       "2042-01-01    41.0\n",
       "2043-01-01    31.0\n",
       "2044-01-01    26.0\n",
       "Name: tasmin, dtype: float64"
      ]
     },
     "execution_count": 288,
     "metadata": {},
     "output_type": "execute_result"
    }
   ],
   "source": [
    "series.head(50)"
   ]
  },
  {
   "cell_type": "markdown",
   "metadata": {},
   "source": [
    "# Step-5: Plotting (group per decades)"
   ]
  },
  {
   "cell_type": "code",
   "execution_count": 289,
   "metadata": {},
   "outputs": [],
   "source": [
    "series10YS = series.groupby(pd.Grouper(freq='10YS')).mean()"
   ]
  },
  {
   "cell_type": "code",
   "execution_count": 305,
   "metadata": {},
   "outputs": [
    {
     "data": {
      "text/plain": [
       "Text(0.5,1,'RATECE-PLANICA ski station (Slovenia) \\n A dying ski tourism destination under RCP 8.5')"
      ]
     },
     "execution_count": 305,
     "metadata": {},
     "output_type": "execute_result"
    },
    {
     "data": {
      "image/png": "[encoded data removed]",
      "text/plain": [
       "<Figure size 1440x720 with 1 Axes>"
      ]
     },
     "metadata": {
      "needs_background": "light"
     },
     "output_type": "display_data"
    }
   ],
   "source": [
    "import matplotlib.pyplot as plt\n",
    "from datetime import datetime\n",
    "from datetime import timedelta\n",
    "from dateutil.relativedelta import relativedelta\n",
    "\n",
    "fig = plt.figure(1, figsize=[20,10])\n",
    "ax = plt.subplot(1, 1, 1)\n",
    "series10YS.plot.bar(ax=ax)\n",
    "plt.axhline(y=30, color='r', linestyle='-', linewidth=3)\n",
    "labels = [datetime.strptime(item.get_text(), '%Y-%m-%d %H:%M:%S').strftime(\"%Y\") + '-' + \n",
    "            (datetime.strptime(item.get_text() , '%Y-%m-%d %H:%M:%S') +  relativedelta(years=9)).strftime(\"%Y\")  for item in ax.get_xticklabels()] \n",
    "ax.set_xticklabels(labels, rotation=20, fontsize = 15)\n",
    "ax.set_xlabel('Decade', fontsize = 20)\n",
    "ax.set_ylabel('Average number of favourable days per year\\n for the production of artifical snow', fontsize = 20)\n",
    "plt.title(\"RATECE-PLANICA ski station (Slovenia) \\n A dying ski tourism destination under RCP 8.5\", fontsize=30)"
   ]
  },
  {
   "cell_type": "code",
   "execution_count": null,
   "metadata": {},
   "outputs": [],
   "source": []
  }
 ],
 "metadata": {
  "kernelspec": {
   "display_name": "Python 3",
   "language": "python",
   "name": "python3"
  },
  "language_info": {
   "codemirror_mode": {
    "name": "ipython",
    "version": 3
   },
   "file_extension": ".py",
   "mimetype": "text/x-python",
   "name": "python",
   "nbconvert_exporter": "python",
   "pygments_lexer": "ipython3",
   "version": "3.7.3"
  }
 },
 "nbformat": 4,
 "nbformat_minor": 4
}
