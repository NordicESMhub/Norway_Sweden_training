{
 "cells": [
  {
   "cell_type": "markdown",
   "metadata": {},
   "source": [
    "# Juan's olive grove - temperature\n",
    "\n",
    "The south of Spain (andalusia) is famous for its olive groves and olive oil production. However olive trees are sensitive to climate change. Changes in temperature and precipitation can cause changing flowering times (Gabaldón-Leal et al., 2017), reduce production and may even result in abandoned olive groves when farmers are forced to move to different areas. Olive production is a culturally and economically crucial industry to the region therefore adaptation is necessary. Adaptation measures include but are not limited to: different and more precise irrigation practices (Lorite et al., 2018), change of location (Ropero, Rumí, & Aguilera, 2018), change of crop.\n",
    "\n",
    " \n",
    "\n",
    "In this case study we will take a look at how climate data can help two olive grove owners, Juan and Carlos, in their olive farming. \n",
    "\n",
    "Farmer Juan has an olive grove between Granada and Malaga (lat:37 lon:-4). The specific breed of olive tree in his grove study cannot flower if the temperature in reaches above 27 degrees. With the Toolbox you can plot a graph of the temperature fluctuations from 2008 to 2017. \n",
    "\n",
    "\n",
    "<img src=\"https://www.freeworldmaps.net/europe/spain/andalusia/andalusia-map.jpg\" />\n",
    "\n",
    "# Question\n",
    "\n",
    "### How many years did the mean daily temperature exceed 27°C in the period of 2008-2017 at Juan's olive grove?"
   ]
  },
  {
   "cell_type": "markdown",
   "metadata": {},
   "source": [
    "# Retrieve ERA-5 reanalysis\n",
    "\n",
    "- 2 meter temperature (K)\n",
    "- hourly data\n",
    "- select a small area to reduce the amount of data downloaded"
   ]
  },
  {
   "cell_type": "code",
   "execution_count": 1,
   "metadata": {},
   "outputs": [
    {
     "name": "stderr",
     "output_type": "stream",
     "text": [
      "2020-02-28 16:16:58,278 INFO Sending request to https://cds.climate.copernicus.eu/api/v2/resources/reanalysis-era5-single-levels\n",
      "2020-02-28 16:16:59,518 INFO Request is queued\n",
      "2020-02-28 16:17:00,561 INFO Request is running\n",
      "2020-02-28 16:29:18,912 INFO Request is queued\n",
      "2020-02-28 16:31:19,187 INFO Request is running\n",
      "2020-02-28 18:27:33,231 INFO Request is completed\n",
      "2020-02-28 18:27:33,234 INFO Downloading http://136.156.133.36/cache-compute-0010/cache/data0/adaptor.mars.internal-1582907395.5085666-22714-1-5b803ab4-b129-4280-8355-5dbfadd8353b.nc to era5_t2m_2008-2017_hourly.nc (4.5M)\n",
      "2020-02-28 18:27:33,900 INFO Download rate 6.8M/s   \n"
     ]
    },
    {
     "data": {
      "text/plain": [
       "Result(content_length=4735392,content_type=application/x-netcdf,location=http://136.156.133.36/cache-compute-0010/cache/data0/adaptor.mars.internal-1582907395.5085666-22714-1-5b803ab4-b129-4280-8355-5dbfadd8353b.nc)"
      ]
     },
     "execution_count": 1,
     "metadata": {},
     "output_type": "execute_result"
    }
   ],
   "source": [
    "import cdsapi\n",
    "\n",
    "c = cdsapi.Client()\n",
    "\n",
    "c.retrieve(\n",
    "    'reanalysis-era5-single-levels',\n",
    "    {\n",
    "        'product_type': 'reanalysis',\n",
    "        'variable': '2m_temperature',\n",
    "        'year': [\n",
    "            '2008', '2009', '2010',\n",
    "            '2011', '2012', '2013',\n",
    "            '2014', '2015', '2016',\n",
    "            '2017',\n",
    "        ],\n",
    "        'month': [\n",
    "            '01', '02', '03',\n",
    "            '04', '05', '06',\n",
    "            '07', '08', '09',\n",
    "            '10', '11', '12',\n",
    "        ],\n",
    "        'day': [\n",
    "            '01', '02', '03',\n",
    "            '04', '05', '06',\n",
    "            '07', '08', '09',\n",
    "            '10', '11', '12',\n",
    "            '13', '14', '15',\n",
    "            '16', '17', '18',\n",
    "            '19', '20', '21',\n",
    "            '22', '23', '24',\n",
    "            '25', '26', '27',\n",
    "            '28', '29', '30',\n",
    "            '31',\n",
    "        ],\n",
    "       'area': [37.5, -4.5, 36.5, -3.5], # North, West, South, East. Default: global\n",
    "        'time': [\n",
    "            '00:00', '01:00', '02:00',\n",
    "            '03:00', '04:00', '05:00',\n",
    "            '06:00', '07:00', '08:00',\n",
    "            '09:00', '10:00', '11:00',\n",
    "            '12:00', '13:00', '14:00',\n",
    "            '15:00', '16:00', '17:00',\n",
    "            '18:00', '19:00', '20:00',\n",
    "            '21:00', '22:00', '23:00',\n",
    "        ],\n",
    "        'format': 'netcdf',\n",
    "    },\n",
    "    'era5_t2m_2008-2017_hourly.nc')"
   ]
  },
  {
   "cell_type": "markdown",
   "metadata": {},
   "source": [
    "# Compute daily mean from hourly data\n",
    "\n",
    "- One single location (longitude: -4, latitude: 37) e.g. take the nearest grid point\n",
    "- Plot time series from 2008 to 2017"
   ]
  },
  {
   "cell_type": "code",
   "execution_count": 46,
   "metadata": {},
   "outputs": [],
   "source": [
    "import matplotlib.pyplot as plt\n",
    "import xarray as xr\n",
    "import cftime\n",
    "%matplotlib inline"
   ]
  },
  {
   "cell_type": "code",
   "execution_count": 82,
   "metadata": {},
   "outputs": [],
   "source": [
    "filename = 'era5_t2m_2008-2017_hourly.nc'\n",
    "dset = xr.open_dataset(filename, decode_times=True, use_cftime=True)"
   ]
  },
  {
   "cell_type": "code",
   "execution_count": 83,
   "metadata": {},
   "outputs": [
    {
     "data": {
      "text/html": [
       "<pre>&lt;xarray.Dataset&gt;\n",
       "Dimensions:    (latitude: 5, longitude: 5, time: 87672)\n",
       "Coordinates:\n",
       "  * longitude  (longitude) float32 -4.5 -4.25 -4.0 -3.75 -3.5\n",
       "  * latitude   (latitude) float32 37.5 37.25 37.0 36.75 36.5\n",
       "  * time       (time) object 2008-01-01 00:00:00 ... 2017-12-31 23:00:00.13\n",
       "Data variables:\n",
       "    t2m        (time, latitude, longitude) float32 ...\n",
       "Attributes:\n",
       "    Conventions:  CF-1.6\n",
       "    history:      2020-02-28 18:25:46 GMT by grib_to_netcdf-2.16.0: /opt/ecmw...</pre>"
      ],
      "text/plain": [
       "<xarray.Dataset>\n",
       "Dimensions:    (latitude: 5, longitude: 5, time: 87672)\n",
       "Coordinates:\n",
       "  * longitude  (longitude) float32 -4.5 -4.25 -4.0 -3.75 -3.5\n",
       "  * latitude   (latitude) float32 37.5 37.25 37.0 36.75 36.5\n",
       "  * time       (time) object 2008-01-01 00:00:00 ... 2017-12-31 23:00:00.13\n",
       "Data variables:\n",
       "    t2m        (time, latitude, longitude) float32 ...\n",
       "Attributes:\n",
       "    Conventions:  CF-1.6\n",
       "    history:      2020-02-28 18:25:46 GMT by grib_to_netcdf-2.16.0: /opt/ecmw..."
      ]
     },
     "execution_count": 83,
     "metadata": {},
     "output_type": "execute_result"
    }
   ],
   "source": [
    "dset"
   ]
  },
  {
   "cell_type": "markdown",
   "metadata": {},
   "source": [
    "## Daily mean"
   ]
  },
  {
   "cell_type": "code",
   "execution_count": 49,
   "metadata": {},
   "outputs": [],
   "source": [
    "dset_daily_mean = dset.sel(latitude=37.0, longitude=-4, method=\"nearest\").resample(time='1D').mean()\n"
   ]
  },
  {
   "cell_type": "code",
   "execution_count": 50,
   "metadata": {},
   "outputs": [
    {
     "data": {
      "text/html": [
       "<pre>&lt;xarray.DataArray &#x27;time&#x27; (time: 3653)&gt;\n",
       "array([cftime.DatetimeGregorian(2008-01-01 00:00:00),\n",
       "       cftime.DatetimeGregorian(2008-01-02 00:00:00),\n",
       "       cftime.DatetimeGregorian(2008-01-03 00:00:00), ...,\n",
       "       cftime.DatetimeGregorian(2017-12-29 00:00:00),\n",
       "       cftime.DatetimeGregorian(2017-12-30 00:00:00),\n",
       "       cftime.DatetimeGregorian(2017-12-31 00:00:00)], dtype=object)\n",
       "Coordinates:\n",
       "  * time       (time) object 2008-01-01 00:00:00 ... 2017-12-31 00:00:00\n",
       "    longitude  float32 -4.0\n",
       "    latitude   float32 37.0</pre>"
      ],
      "text/plain": [
       "<xarray.DataArray 'time' (time: 3653)>\n",
       "array([cftime.DatetimeGregorian(2008-01-01 00:00:00),\n",
       "       cftime.DatetimeGregorian(2008-01-02 00:00:00),\n",
       "       cftime.DatetimeGregorian(2008-01-03 00:00:00), ...,\n",
       "       cftime.DatetimeGregorian(2017-12-29 00:00:00),\n",
       "       cftime.DatetimeGregorian(2017-12-30 00:00:00),\n",
       "       cftime.DatetimeGregorian(2017-12-31 00:00:00)], dtype=object)\n",
       "Coordinates:\n",
       "  * time       (time) object 2008-01-01 00:00:00 ... 2017-12-31 00:00:00\n",
       "    longitude  float32 -4.0\n",
       "    latitude   float32 37.0"
      ]
     },
     "execution_count": 50,
     "metadata": {},
     "output_type": "execute_result"
    }
   ],
   "source": [
    "dset_daily_mean.time"
   ]
  },
  {
   "cell_type": "markdown",
   "metadata": {},
   "source": [
    "## Plot timeserie"
   ]
  },
  {
   "cell_type": "code",
   "execution_count": 51,
   "metadata": {},
   "outputs": [
    {
     "data": {
      "text/plain": [
       "<matplotlib.lines.Line2D at 0x7faeb0288690>"
      ]
     },
     "execution_count": 51,
     "metadata": {},
     "output_type": "execute_result"
    },
    {
     "data": {
      "image/png": "[encoded data removed]",
      "text/plain": [
       "<Figure size 432x288 with 1 Axes>"
      ]
     },
     "metadata": {
      "needs_background": "light"
     },
     "output_type": "display_data"
    }
   ],
   "source": [
    "(dset_daily_mean['t2m']-273.15).plot.line('ro-')\n",
    "plt.ylabel(\"2 metre temperature (C)\")\n",
    "plt.title(\"Daily mean temperature\")\n",
    "plt.axhline(y=27)"
   ]
  },
  {
   "cell_type": "markdown",
   "metadata": {},
   "source": [
    "## Compute number of days where mean 2m temperature > 27C "
   ]
  },
  {
   "cell_type": "code",
   "execution_count": 52,
   "metadata": {},
   "outputs": [],
   "source": [
    "dset_daily_mean_greater_27 = dset_daily_mean.where(dset_daily_mean['t2m'] > 27 + 273.15).groupby('time.year').count()"
   ]
  },
  {
   "cell_type": "markdown",
   "metadata": {},
   "source": [
    "## Plot"
   ]
  },
  {
   "cell_type": "code",
   "execution_count": 62,
   "metadata": {},
   "outputs": [
    {
     "data": {
      "text/plain": [
       "<matplotlib.lines.Line2D at 0x7faeb02b9650>"
      ]
     },
     "execution_count": 62,
     "metadata": {},
     "output_type": "execute_result"
    },
    {
     "data": {
      "image/png": "[encoded data removed]",
      "text/plain": [
       "<Figure size 432x288 with 1 Axes>"
      ]
     },
     "metadata": {
      "needs_background": "light"
     },
     "output_type": "display_data"
    }
   ],
   "source": [
    "dset_daily_mean_greater_27['t2m'].plot.line('ro-')\n",
    "plt.ylabel(\"Number of days where T2M mean > 27C\")\n",
    "plt.axhline(y=0)"
   ]
  },
  {
   "cell_type": "code",
   "execution_count": 54,
   "metadata": {},
   "outputs": [
    {
     "data": {
      "text/html": [
       "<pre>&lt;xarray.DataArray &#x27;t2m&#x27; (year: 10)&gt;\n",
       "array([ 1,  8,  4,  3, 13,  0,  1, 27, 11, 16])\n",
       "Coordinates:\n",
       "    longitude  float32 -4.0\n",
       "    latitude   float32 37.0\n",
       "  * year       (year) int64 2008 2009 2010 2011 2012 2013 2014 2015 2016 2017</pre>"
      ],
      "text/plain": [
       "<xarray.DataArray 't2m' (year: 10)>\n",
       "array([ 1,  8,  4,  3, 13,  0,  1, 27, 11, 16])\n",
       "Coordinates:\n",
       "    longitude  float32 -4.0\n",
       "    latitude   float32 37.0\n",
       "  * year       (year) int64 2008 2009 2010 2011 2012 2013 2014 2015 2016 2017"
      ]
     },
     "execution_count": 54,
     "metadata": {},
     "output_type": "execute_result"
    }
   ],
   "source": [
    "dset_daily_mean_greater_27['t2m']"
   ]
  },
  {
   "cell_type": "markdown",
   "metadata": {},
   "source": [
    "## Count number of years where daily mean > 27C"
   ]
  },
  {
   "cell_type": "code",
   "execution_count": 70,
   "metadata": {},
   "outputs": [
    {
     "name": "stdout",
     "output_type": "stream",
     "text": [
      "In the period of 2008-2017, the mean daily temperature exceeded 27C  9  years at Juan's olive grove\n"
     ]
    }
   ],
   "source": [
    "nyears = dset_daily_mean_greater_27.where(dset_daily_mean_greater_27['t2m']>0).count()\n",
    "print(\"In the period of 2008-2017, the mean daily temperature exceeded 27C \", nyears['t2m'].values, \" years at Juan's olive grove\")"
   ]
  },
  {
   "cell_type": "markdown",
   "metadata": {},
   "source": [
    "## Same using cdo\n",
    "\n",
    "- you can use [cdo](https://code.mpimet.mpg.de/projects/cdo) to compute daily mean values"
   ]
  },
  {
   "cell_type": "code",
   "execution_count": null,
   "metadata": {},
   "outputs": [],
   "source": [
    "!cdo -daymean era5_t2m_2008-2017_hourly.nc era5_t2m_2008-2017_daily_mean.nc"
   ]
  },
  {
   "cell_type": "code",
   "execution_count": 56,
   "metadata": {},
   "outputs": [],
   "source": [
    "filename = 'era5_t2m_2008-2017_daily_mean.nc'\n",
    "dset = xr.open_dataset(filename, decode_times=True, use_cftime=True)"
   ]
  },
  {
   "cell_type": "code",
   "execution_count": 57,
   "metadata": {},
   "outputs": [],
   "source": [
    "dset_daily_mean = dset.sel(latitude=37.0, longitude=-4, method=\"nearest\")"
   ]
  },
  {
   "cell_type": "code",
   "execution_count": 58,
   "metadata": {},
   "outputs": [],
   "source": [
    "dset_daily_mean_greater_27 = dset_daily_mean.where(dset_daily_mean['t2m'] > 27 + 273.15).groupby('time.year').count()"
   ]
  },
  {
   "cell_type": "code",
   "execution_count": 59,
   "metadata": {},
   "outputs": [
    {
     "data": {
      "text/html": [
       "<pre>&lt;xarray.Dataset&gt;\n",
       "Dimensions:    (bnds: 2, year: 10)\n",
       "Coordinates:\n",
       "    longitude  float32 -4.0\n",
       "    latitude   float32 37.0\n",
       "  * year       (year) int64 2008 2009 2010 2011 2012 2013 2014 2015 2016 2017\n",
       "Dimensions without coordinates: bnds\n",
       "Data variables:\n",
       "    time_bnds  (year, bnds) int64 1 1 8 8 4 4 3 3 13 ... 0 1 1 27 27 11 11 16 16\n",
       "    t2m        (year) int64 1 8 4 3 13 0 1 27 11 16</pre>"
      ],
      "text/plain": [
       "<xarray.Dataset>\n",
       "Dimensions:    (bnds: 2, year: 10)\n",
       "Coordinates:\n",
       "    longitude  float32 -4.0\n",
       "    latitude   float32 37.0\n",
       "  * year       (year) int64 2008 2009 2010 2011 2012 2013 2014 2015 2016 2017\n",
       "Dimensions without coordinates: bnds\n",
       "Data variables:\n",
       "    time_bnds  (year, bnds) int64 1 1 8 8 4 4 3 3 13 ... 0 1 1 27 27 11 11 16 16\n",
       "    t2m        (year) int64 1 8 4 3 13 0 1 27 11 16"
      ]
     },
     "execution_count": 59,
     "metadata": {},
     "output_type": "execute_result"
    }
   ],
   "source": [
    "dset_daily_mean_greater_27"
   ]
  },
  {
   "cell_type": "code",
   "execution_count": 71,
   "metadata": {},
   "outputs": [
    {
     "name": "stdout",
     "output_type": "stream",
     "text": [
      "In the period of 2008-2017, the mean daily temperature exceeded 27C  9  years at Juan's olive grove\n"
     ]
    }
   ],
   "source": [
    "nyears = dset_daily_mean_greater_27.where(dset_daily_mean_greater_27['t2m']>0).count()\n",
    "print(\"In the period of 2008-2017, the mean daily temperature exceeded 27C \", nyears['t2m'].values, \" years at Juan's olive grove\")"
   ]
  },
  {
   "cell_type": "markdown",
   "metadata": {},
   "source": [
    "# Maximum daily temperature\n",
    "\n",
    "Farmer Juan's olive trees cannot flower when the temperature is above 27 degrees. In the previous exercise we analyzed the mean daily temperature but actually we need to look at the maximum daily temperature to find out which years were problematic for Farmer Juan.  \n",
    "\n",
    "The daily temperature in Andalusia reaches its maximum at 14:00h. To get this maximum daily temperature we need to make some adjustments to the python script."
   ]
  },
  {
   "cell_type": "code",
   "execution_count": 86,
   "metadata": {},
   "outputs": [],
   "source": [
    "dset_max_daily = dset.sel(latitude=37.0, longitude=-4, time = dset.time.dt.hour.isin([14, 14]), method=\"nearest\")"
   ]
  },
  {
   "cell_type": "code",
   "execution_count": 89,
   "metadata": {},
   "outputs": [],
   "source": [
    "dset_daily_max_greater_27 = dset_max_daily.where(dset_max_daily['t2m'] > 27 + 273.15).groupby('time.year').count()"
   ]
  },
  {
   "cell_type": "code",
   "execution_count": 92,
   "metadata": {},
   "outputs": [
    {
     "name": "stdout",
     "output_type": "stream",
     "text": [
      "In the period of 2008-2017, the mean daily temperature exceeded 27C  10  years at Juan's olive grove\n"
     ]
    }
   ],
   "source": [
    "nyears = dset_daily_max_greater_27.where(dset_daily_max_greater_27['t2m']>0).count()\n",
    "print(\"In the period of 2008-2017, the mean daily temperature exceeded 27C \", nyears['t2m'].values, \" years at Juan's olive grove\")"
   ]
  },
  {
   "cell_type": "code",
   "execution_count": null,
   "metadata": {},
   "outputs": [],
   "source": []
  }
 ],
 "metadata": {
  "kernelspec": {
   "display_name": "Python 3",
   "language": "python",
   "name": "python3"
  },
  "language_info": {
   "codemirror_mode": {
    "name": "ipython",
    "version": 3
   },
   "file_extension": ".py",
   "mimetype": "text/x-python",
   "name": "python",
   "nbconvert_exporter": "python",
   "pygments_lexer": "ipython3",
   "version": "3.7.6"
  }
 },
 "nbformat": 4,
 "nbformat_minor": 4
}
